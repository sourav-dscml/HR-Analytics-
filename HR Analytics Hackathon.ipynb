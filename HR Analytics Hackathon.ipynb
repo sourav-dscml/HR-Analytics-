{
 "cells": [
  {
   "cell_type": "markdown",
   "metadata": {},
   "source": [
    "# HR Analytics Hackathon Project"
   ]
  },
  {
   "cell_type": "markdown",
   "metadata": {},
   "source": [
    "This is project done as a part of a Hackathan Project organized by Analytics Vidya (https://datahack.analyticsvidhya.com/contest/wns-analytics-hackathon-2018-1/).\n",
    "In this problem we are trying to predict whether an employee will get promotion or not on the basis of provided data set."
   ]
  },
  {
   "cell_type": "code",
   "execution_count": 1,
   "metadata": {},
   "outputs": [],
   "source": [
    "#importing libraries\n",
    "\n",
    "import pandas as pd\n",
    "import numpy as np\n",
    "import matplotlib.pyplot as plt\n",
    "import seaborn as sns\n",
    "\n",
    "from sklearn.decomposition import PCA\n",
    "import xgboost as xgb\n",
    "\n",
    "from imblearn.over_sampling import SMOTE\n",
    "from sklearn.model_selection import train_test_split\n",
    "\n",
    "from sklearn.preprocessing import StandardScaler\n",
    "from sklearn.model_selection import GridSearchCV\n",
    "\n",
    "from sklearn.metrics import classification_report,confusion_matrix\n",
    "\n",
    "from sklearn.metrics import classification_report,confusion_matrix\n",
    "\n",
    "import warnings\n",
    "warnings.simplefilter('ignore')"
   ]
  },
  {
   "cell_type": "code",
   "execution_count": 2,
   "metadata": {},
   "outputs": [],
   "source": [
    "#Loading the dataframe\n",
    "\n",
    "train_data = pd.read_csv('train_LZdllcl.csv')\n",
    "test_data = pd.read_csv('test_2umaH9m.csv')"
   ]
  },
  {
   "cell_type": "code",
   "execution_count": 3,
   "metadata": {},
   "outputs": [
    {
     "name": "stdout",
     "output_type": "stream",
     "text": [
      "<class 'pandas.core.frame.DataFrame'>\n",
      "RangeIndex: 54808 entries, 0 to 54807\n",
      "Data columns (total 14 columns):\n",
      " #   Column                Non-Null Count  Dtype  \n",
      "---  ------                --------------  -----  \n",
      " 0   employee_id           54808 non-null  int64  \n",
      " 1   department            54808 non-null  object \n",
      " 2   region                54808 non-null  object \n",
      " 3   education             52399 non-null  object \n",
      " 4   gender                54808 non-null  object \n",
      " 5   recruitment_channel   54808 non-null  object \n",
      " 6   no_of_trainings       54808 non-null  int64  \n",
      " 7   age                   54808 non-null  int64  \n",
      " 8   previous_year_rating  50684 non-null  float64\n",
      " 9   length_of_service     54808 non-null  int64  \n",
      " 10  KPIs_met >80%         54808 non-null  int64  \n",
      " 11  awards_won?           54808 non-null  int64  \n",
      " 12  avg_training_score    54808 non-null  int64  \n",
      " 13  is_promoted           54808 non-null  int64  \n",
      "dtypes: float64(1), int64(8), object(5)\n",
      "memory usage: 5.9+ MB\n"
     ]
    }
   ],
   "source": [
    "#Geting details of the train data frame\n",
    "\n",
    "train_data.info()"
   ]
  },
  {
   "cell_type": "code",
   "execution_count": 4,
   "metadata": {},
   "outputs": [
    {
     "data": {
      "text/html": [
       "<div>\n",
       "<style scoped>\n",
       "    .dataframe tbody tr th:only-of-type {\n",
       "        vertical-align: middle;\n",
       "    }\n",
       "\n",
       "    .dataframe tbody tr th {\n",
       "        vertical-align: top;\n",
       "    }\n",
       "\n",
       "    .dataframe thead th {\n",
       "        text-align: right;\n",
       "    }\n",
       "</style>\n",
       "<table border=\"1\" class=\"dataframe\">\n",
       "  <thead>\n",
       "    <tr style=\"text-align: right;\">\n",
       "      <th></th>\n",
       "      <th>count</th>\n",
       "      <th>mean</th>\n",
       "      <th>std</th>\n",
       "      <th>min</th>\n",
       "      <th>25%</th>\n",
       "      <th>50%</th>\n",
       "      <th>75%</th>\n",
       "      <th>max</th>\n",
       "    </tr>\n",
       "  </thead>\n",
       "  <tbody>\n",
       "    <tr>\n",
       "      <th>employee_id</th>\n",
       "      <td>54808.0</td>\n",
       "      <td>39195.830627</td>\n",
       "      <td>22586.581449</td>\n",
       "      <td>1.0</td>\n",
       "      <td>19669.75</td>\n",
       "      <td>39225.5</td>\n",
       "      <td>58730.5</td>\n",
       "      <td>78298.0</td>\n",
       "    </tr>\n",
       "    <tr>\n",
       "      <th>no_of_trainings</th>\n",
       "      <td>54808.0</td>\n",
       "      <td>1.253011</td>\n",
       "      <td>0.609264</td>\n",
       "      <td>1.0</td>\n",
       "      <td>1.00</td>\n",
       "      <td>1.0</td>\n",
       "      <td>1.0</td>\n",
       "      <td>10.0</td>\n",
       "    </tr>\n",
       "    <tr>\n",
       "      <th>age</th>\n",
       "      <td>54808.0</td>\n",
       "      <td>34.803915</td>\n",
       "      <td>7.660169</td>\n",
       "      <td>20.0</td>\n",
       "      <td>29.00</td>\n",
       "      <td>33.0</td>\n",
       "      <td>39.0</td>\n",
       "      <td>60.0</td>\n",
       "    </tr>\n",
       "    <tr>\n",
       "      <th>previous_year_rating</th>\n",
       "      <td>50684.0</td>\n",
       "      <td>3.329256</td>\n",
       "      <td>1.259993</td>\n",
       "      <td>1.0</td>\n",
       "      <td>3.00</td>\n",
       "      <td>3.0</td>\n",
       "      <td>4.0</td>\n",
       "      <td>5.0</td>\n",
       "    </tr>\n",
       "    <tr>\n",
       "      <th>length_of_service</th>\n",
       "      <td>54808.0</td>\n",
       "      <td>5.865512</td>\n",
       "      <td>4.265094</td>\n",
       "      <td>1.0</td>\n",
       "      <td>3.00</td>\n",
       "      <td>5.0</td>\n",
       "      <td>7.0</td>\n",
       "      <td>37.0</td>\n",
       "    </tr>\n",
       "    <tr>\n",
       "      <th>KPIs_met &gt;80%</th>\n",
       "      <td>54808.0</td>\n",
       "      <td>0.351974</td>\n",
       "      <td>0.477590</td>\n",
       "      <td>0.0</td>\n",
       "      <td>0.00</td>\n",
       "      <td>0.0</td>\n",
       "      <td>1.0</td>\n",
       "      <td>1.0</td>\n",
       "    </tr>\n",
       "    <tr>\n",
       "      <th>awards_won?</th>\n",
       "      <td>54808.0</td>\n",
       "      <td>0.023172</td>\n",
       "      <td>0.150450</td>\n",
       "      <td>0.0</td>\n",
       "      <td>0.00</td>\n",
       "      <td>0.0</td>\n",
       "      <td>0.0</td>\n",
       "      <td>1.0</td>\n",
       "    </tr>\n",
       "    <tr>\n",
       "      <th>avg_training_score</th>\n",
       "      <td>54808.0</td>\n",
       "      <td>63.386750</td>\n",
       "      <td>13.371559</td>\n",
       "      <td>39.0</td>\n",
       "      <td>51.00</td>\n",
       "      <td>60.0</td>\n",
       "      <td>76.0</td>\n",
       "      <td>99.0</td>\n",
       "    </tr>\n",
       "    <tr>\n",
       "      <th>is_promoted</th>\n",
       "      <td>54808.0</td>\n",
       "      <td>0.085170</td>\n",
       "      <td>0.279137</td>\n",
       "      <td>0.0</td>\n",
       "      <td>0.00</td>\n",
       "      <td>0.0</td>\n",
       "      <td>0.0</td>\n",
       "      <td>1.0</td>\n",
       "    </tr>\n",
       "  </tbody>\n",
       "</table>\n",
       "</div>"
      ],
      "text/plain": [
       "                        count          mean           std   min       25%  \\\n",
       "employee_id           54808.0  39195.830627  22586.581449   1.0  19669.75   \n",
       "no_of_trainings       54808.0      1.253011      0.609264   1.0      1.00   \n",
       "age                   54808.0     34.803915      7.660169  20.0     29.00   \n",
       "previous_year_rating  50684.0      3.329256      1.259993   1.0      3.00   \n",
       "length_of_service     54808.0      5.865512      4.265094   1.0      3.00   \n",
       "KPIs_met >80%         54808.0      0.351974      0.477590   0.0      0.00   \n",
       "awards_won?           54808.0      0.023172      0.150450   0.0      0.00   \n",
       "avg_training_score    54808.0     63.386750     13.371559  39.0     51.00   \n",
       "is_promoted           54808.0      0.085170      0.279137   0.0      0.00   \n",
       "\n",
       "                          50%      75%      max  \n",
       "employee_id           39225.5  58730.5  78298.0  \n",
       "no_of_trainings           1.0      1.0     10.0  \n",
       "age                      33.0     39.0     60.0  \n",
       "previous_year_rating      3.0      4.0      5.0  \n",
       "length_of_service         5.0      7.0     37.0  \n",
       "KPIs_met >80%             0.0      1.0      1.0  \n",
       "awards_won?               0.0      0.0      1.0  \n",
       "avg_training_score       60.0     76.0     99.0  \n",
       "is_promoted               0.0      0.0      1.0  "
      ]
     },
     "execution_count": 4,
     "metadata": {},
     "output_type": "execute_result"
    }
   ],
   "source": [
    "#Having the summary of train data\n",
    "\n",
    "train_data.describe().T"
   ]
  },
  {
   "cell_type": "code",
   "execution_count": 5,
   "metadata": {},
   "outputs": [],
   "source": [
    "#Chanding the name of the 'KPIs_met >80%','awards_won?' columns\n",
    "\n",
    "train_data.rename(columns={'KPIs_met >80%':'KPI','awards_won?':'awards'},inplace =True)\n",
    "\n",
    "test_data.rename(columns={'KPIs_met >80%':'KPI','awards_won?':'awards'}, inplace =True)"
   ]
  },
  {
   "cell_type": "code",
   "execution_count": 6,
   "metadata": {},
   "outputs": [
    {
     "data": {
      "text/html": [
       "<div>\n",
       "<style scoped>\n",
       "    .dataframe tbody tr th:only-of-type {\n",
       "        vertical-align: middle;\n",
       "    }\n",
       "\n",
       "    .dataframe tbody tr th {\n",
       "        vertical-align: top;\n",
       "    }\n",
       "\n",
       "    .dataframe thead th {\n",
       "        text-align: right;\n",
       "    }\n",
       "</style>\n",
       "<table border=\"1\" class=\"dataframe\">\n",
       "  <thead>\n",
       "    <tr style=\"text-align: right;\">\n",
       "      <th></th>\n",
       "      <th>employee_id</th>\n",
       "      <th>department</th>\n",
       "      <th>region</th>\n",
       "      <th>education</th>\n",
       "      <th>gender</th>\n",
       "      <th>recruitment_channel</th>\n",
       "      <th>no_of_trainings</th>\n",
       "      <th>age</th>\n",
       "      <th>previous_year_rating</th>\n",
       "      <th>length_of_service</th>\n",
       "      <th>KPI</th>\n",
       "      <th>awards</th>\n",
       "      <th>avg_training_score</th>\n",
       "      <th>is_promoted</th>\n",
       "    </tr>\n",
       "  </thead>\n",
       "  <tbody>\n",
       "    <tr>\n",
       "      <th>0</th>\n",
       "      <td>65438</td>\n",
       "      <td>Sales &amp; Marketing</td>\n",
       "      <td>region_7</td>\n",
       "      <td>Master's &amp; above</td>\n",
       "      <td>f</td>\n",
       "      <td>sourcing</td>\n",
       "      <td>1</td>\n",
       "      <td>35</td>\n",
       "      <td>5.0</td>\n",
       "      <td>8</td>\n",
       "      <td>1</td>\n",
       "      <td>0</td>\n",
       "      <td>49</td>\n",
       "      <td>0</td>\n",
       "    </tr>\n",
       "    <tr>\n",
       "      <th>1</th>\n",
       "      <td>65141</td>\n",
       "      <td>Operations</td>\n",
       "      <td>region_22</td>\n",
       "      <td>Bachelor's</td>\n",
       "      <td>m</td>\n",
       "      <td>other</td>\n",
       "      <td>1</td>\n",
       "      <td>30</td>\n",
       "      <td>5.0</td>\n",
       "      <td>4</td>\n",
       "      <td>0</td>\n",
       "      <td>0</td>\n",
       "      <td>60</td>\n",
       "      <td>0</td>\n",
       "    </tr>\n",
       "    <tr>\n",
       "      <th>2</th>\n",
       "      <td>7513</td>\n",
       "      <td>Sales &amp; Marketing</td>\n",
       "      <td>region_19</td>\n",
       "      <td>Bachelor's</td>\n",
       "      <td>m</td>\n",
       "      <td>sourcing</td>\n",
       "      <td>1</td>\n",
       "      <td>34</td>\n",
       "      <td>3.0</td>\n",
       "      <td>7</td>\n",
       "      <td>0</td>\n",
       "      <td>0</td>\n",
       "      <td>50</td>\n",
       "      <td>0</td>\n",
       "    </tr>\n",
       "    <tr>\n",
       "      <th>3</th>\n",
       "      <td>2542</td>\n",
       "      <td>Sales &amp; Marketing</td>\n",
       "      <td>region_23</td>\n",
       "      <td>Bachelor's</td>\n",
       "      <td>m</td>\n",
       "      <td>other</td>\n",
       "      <td>2</td>\n",
       "      <td>39</td>\n",
       "      <td>1.0</td>\n",
       "      <td>10</td>\n",
       "      <td>0</td>\n",
       "      <td>0</td>\n",
       "      <td>50</td>\n",
       "      <td>0</td>\n",
       "    </tr>\n",
       "    <tr>\n",
       "      <th>4</th>\n",
       "      <td>48945</td>\n",
       "      <td>Technology</td>\n",
       "      <td>region_26</td>\n",
       "      <td>Bachelor's</td>\n",
       "      <td>m</td>\n",
       "      <td>other</td>\n",
       "      <td>1</td>\n",
       "      <td>45</td>\n",
       "      <td>3.0</td>\n",
       "      <td>2</td>\n",
       "      <td>0</td>\n",
       "      <td>0</td>\n",
       "      <td>73</td>\n",
       "      <td>0</td>\n",
       "    </tr>\n",
       "  </tbody>\n",
       "</table>\n",
       "</div>"
      ],
      "text/plain": [
       "   employee_id         department     region         education gender  \\\n",
       "0        65438  Sales & Marketing   region_7  Master's & above      f   \n",
       "1        65141         Operations  region_22        Bachelor's      m   \n",
       "2         7513  Sales & Marketing  region_19        Bachelor's      m   \n",
       "3         2542  Sales & Marketing  region_23        Bachelor's      m   \n",
       "4        48945         Technology  region_26        Bachelor's      m   \n",
       "\n",
       "  recruitment_channel  no_of_trainings  age  previous_year_rating  \\\n",
       "0            sourcing                1   35                   5.0   \n",
       "1               other                1   30                   5.0   \n",
       "2            sourcing                1   34                   3.0   \n",
       "3               other                2   39                   1.0   \n",
       "4               other                1   45                   3.0   \n",
       "\n",
       "   length_of_service  KPI  awards  avg_training_score  is_promoted  \n",
       "0                  8    1       0                  49            0  \n",
       "1                  4    0       0                  60            0  \n",
       "2                  7    0       0                  50            0  \n",
       "3                 10    0       0                  50            0  \n",
       "4                  2    0       0                  73            0  "
      ]
     },
     "execution_count": 6,
     "metadata": {},
     "output_type": "execute_result"
    }
   ],
   "source": [
    "#Checking first 5 rows of the train data\n",
    "\n",
    "train_data.head()"
   ]
  },
  {
   "cell_type": "code",
   "execution_count": 7,
   "metadata": {},
   "outputs": [
    {
     "data": {
      "text/plain": [
       "employee_id                0\n",
       "department                 0\n",
       "region                     0\n",
       "education               2409\n",
       "gender                     0\n",
       "recruitment_channel        0\n",
       "no_of_trainings            0\n",
       "age                        0\n",
       "previous_year_rating    4124\n",
       "length_of_service          0\n",
       "KPI                        0\n",
       "awards                     0\n",
       "avg_training_score         0\n",
       "is_promoted                0\n",
       "dtype: int64"
      ]
     },
     "execution_count": 7,
     "metadata": {},
     "output_type": "execute_result"
    }
   ],
   "source": [
    "#Checking for the Null\n",
    "\n",
    "train_data.isnull().sum()"
   ]
  },
  {
   "cell_type": "code",
   "execution_count": 8,
   "metadata": {},
   "outputs": [],
   "source": [
    "# filling null values with 0 for previous_year_rating\n",
    "\n",
    "train_data.previous_year_rating.fillna(0,inplace=True)\n",
    "test_data.previous_year_rating.fillna(0,inplace=True)"
   ]
  },
  {
   "cell_type": "code",
   "execution_count": 9,
   "metadata": {},
   "outputs": [],
   "source": [
    "# filling null values with ffill for education\n",
    "\n",
    "train_data.education.ffill(inplace=True)\n",
    "test_data.education.ffill(inplace=True)"
   ]
  },
  {
   "cell_type": "code",
   "execution_count": 10,
   "metadata": {},
   "outputs": [],
   "source": [
    "#Getting all Categorical columns\n",
    "\n",
    "cat_col = [var for var in train_data.columns if train_data[var].dtypes == 'O']"
   ]
  },
  {
   "cell_type": "code",
   "execution_count": 11,
   "metadata": {},
   "outputs": [],
   "source": [
    "# function to create Dummies for Categorical columns\n",
    "\n",
    "for var in cat_col:\n",
    "    \n",
    "    # to create the binary variables, we use get_dummies from pandas\n",
    "    \n",
    "    train_data = pd.concat([train_data,\n",
    "                         pd.get_dummies(train_data[var], prefix=var)\n",
    "                         ], axis=1)\n",
    "    \n",
    "    test_data = pd.concat([test_data,\n",
    "                        pd.get_dummies(test_data[var], prefix=var)\n",
    "                        ], axis=1)\n",
    "    "
   ]
  },
  {
   "cell_type": "code",
   "execution_count": 12,
   "metadata": {},
   "outputs": [],
   "source": [
    "# Bining age in 4 groups for Train\n",
    "\n",
    "train_data['age_bin'] = train_data.age.apply(lambda x : 'junior' if x in range(20,25) else (\n",
    "'intermediate' if x in range(25,35) else(\n",
    "'senior' if x in range(35,45) else 'supersenior')))\n",
    "\n",
    "train_data = pd.concat([train_data,pd.get_dummies(train_data.age_bin, prefix='age')],axis=1) "
   ]
  },
  {
   "cell_type": "code",
   "execution_count": 13,
   "metadata": {},
   "outputs": [],
   "source": [
    "# Bining age in 4 groups for Test\n",
    "\n",
    "test_data['age_bin'] = test_data.age.apply(lambda x : 'junior' if x in range(20,25) else (\n",
    "'intermediate' if x in range(25,35) else(\n",
    "'senior' if x in range(35,45) else 'supersenior')))\n",
    "\n",
    "test_data = pd.concat([test_data,pd.get_dummies(test_data.age_bin, prefix='age')],axis=1) "
   ]
  },
  {
   "cell_type": "code",
   "execution_count": 14,
   "metadata": {},
   "outputs": [
    {
     "data": {
      "text/plain": [
       "<matplotlib.axes._subplots.AxesSubplot at 0x1f0562c8820>"
      ]
     },
     "execution_count": 14,
     "metadata": {},
     "output_type": "execute_result"
    },
    {
     "data": {
      "image/png": "[encoded data removed]",
      "text/plain": [
       "<Figure size 432x288 with 1 Axes>"
      ]
     },
     "metadata": {
      "needs_background": "light"
     },
     "output_type": "display_data"
    }
   ],
   "source": [
    "#Visualizing the distriution for avg_training_score\n",
    "\n",
    "sns.distplot(x=train_data['avg_training_score'])"
   ]
  },
  {
   "cell_type": "code",
   "execution_count": 15,
   "metadata": {},
   "outputs": [],
   "source": [
    "# Binning on the basis of multimodal distplot indicating 4 different groups\n",
    "binedges=[38,55,65,75,99]\n",
    "binlabels=[1,2,3,4]\n",
    "train_data['cat_avg_training_score']=pd.cut(train_data['avg_training_score'],bins=binedges,labels=binlabels)"
   ]
  },
  {
   "cell_type": "code",
   "execution_count": 16,
   "metadata": {},
   "outputs": [],
   "source": [
    "# Binning on the basis of multimodal distplot indicating 4 different groups\n",
    "binedges=[38,55,65,75,99]\n",
    "binlabels=[1,2,3,4]\n",
    "test_data['cat_avg_training_score']=pd.cut(test_data['avg_training_score'],bins=binedges,labels=binlabels)"
   ]
  },
  {
   "cell_type": "code",
   "execution_count": 17,
   "metadata": {},
   "outputs": [],
   "source": [
    "#Creating new feature for vital fields for prediction\n",
    "\n",
    "#Field created using KPI and previous_year_rating\n",
    "train_data['Rating_KPI'] = train_data.KPI*train_data.previous_year_rating\n",
    "test_data['Rating_KPI'] = test_data.KPI*test_data.previous_year_rating\n",
    "\n",
    "#Field created using KPI and awards\n",
    "train_data['awards_KPI'] = train_data.KPI*train_data.awards\n",
    "test_data['awards_KPI'] = test_data.KPI*test_data.awards\n",
    "\n",
    "#Field created using KPI ,previous_year_rating and awards\n",
    "train_data['sum_performance'] = train_data.KPI + train_data.previous_year_rating + train_data.awards\n",
    "test_data['sum_performance'] = test_data.KPI + test_data.previous_year_rating + test_data.awards\n",
    "\n",
    "#Creating the start year field\n",
    "train_data['start_year'] = train_data['age'] - train_data['length_of_service']\n",
    "test_data['start_year'] = test_data['age'] - test_data['length_of_service']"
   ]
  },
  {
   "cell_type": "code",
   "execution_count": 19,
   "metadata": {},
   "outputs": [],
   "source": [
    "# train_data['work_fraction'] = train_data['length_of_service'] / train_data['age']\n",
    "# test_data['work_fraction'] = test_data['length_of_service'] / test_data['age']\n",
    "# train_data['key_promotion'] "
   ]
  },
  {
   "cell_type": "code",
   "execution_count": 20,
   "metadata": {},
   "outputs": [],
   "source": [
    "#Droping unnecessary columns from train\n",
    "train_data.drop(['employee_id','department', 'region', 'education', 'gender','recruitment_channel','department','region','age_bin','age'],axis=1,inplace=True)"
   ]
  },
  {
   "cell_type": "code",
   "execution_count": 21,
   "metadata": {},
   "outputs": [],
   "source": [
    "#Droping unnecessary columns from test\n",
    "test_data_cleaned = test_data.drop(['employee_id','department', 'region', 'education', 'gender','recruitment_channel','department','region','age_bin','age'],axis=1)"
   ]
  },
  {
   "cell_type": "code",
   "execution_count": 22,
   "metadata": {},
   "outputs": [],
   "source": [
    "#Getting all features\n",
    "features = [var for var in train_data.columns if var !='is_promoted']\n",
    "\n",
    "#Applying PCA\n",
    "pca = PCA(n_components=1)\n",
    "pca.fit(train_data[features])\n",
    "\n",
    "#Adding PCA as a feature to train and test dataset\n",
    "train_data['pca'] = pca.transform(train_data[features])\n",
    "test_data_cleaned['pca'] = pca.transform(test_data_cleaned)"
   ]
  },
  {
   "cell_type": "code",
   "execution_count": 23,
   "metadata": {},
   "outputs": [],
   "source": [
    "#Function to split train and test dataset\n",
    "\n",
    "def data_prepration(x): # preparing data for training and testing as we are going to use different data \n",
    "    #again and again so make a function\n",
    "    x_features= x.iloc[:,x.columns != \"is_promoted\"]\n",
    "    x_labels=x.iloc[:,x.columns==\"is_promoted\"]\n",
    "    x_features_train,x_features_test,x_labels_train,x_labels_test = train_test_split(x_features,x_labels,test_size=0.25,random_state=42)\n",
    "    print(\"length of training data\")\n",
    "    print(len(x_features_train))\n",
    "    print(\"length of test data\")\n",
    "    print(len(x_features_test))\n",
    "    return(x_features_train,x_features_test,x_labels_train,x_labels_test)"
   ]
  },
  {
   "cell_type": "code",
   "execution_count": 24,
   "metadata": {},
   "outputs": [
    {
     "name": "stdout",
     "output_type": "stream",
     "text": [
      "length of training data\n",
      "41106\n",
      "length of test data\n",
      "13702\n"
     ]
    }
   ],
   "source": [
    "# Lets Use SMOTE for Sampling\n",
    "\n",
    "os = SMOTE(random_state=0) #   We are using SMOTE as the function for oversampling\n",
    "# now we can devided our data into training and test data\n",
    "# Call our method data prepration on our dataset\n",
    "data_train_X,data_test_X,data_train_y,data_test_y=data_prepration(train_data)\n",
    "columns = data_train_X.columns"
   ]
  },
  {
   "cell_type": "code",
   "execution_count": 25,
   "metadata": {},
   "outputs": [],
   "source": [
    "#Scaling the Datadset with StandardScaler\n",
    "\n",
    "#Getting all cols\n",
    "all_col = [var for var in data_train_X.columns] \n",
    "\n",
    "#Initializing Standerd Scaller\n",
    "scaler = StandardScaler()\n",
    "\n",
    "#Fitting train_data to standerd Scaller\n",
    "scaler.fit(data_train_X[all_col])\n",
    "\n",
    "#transforming data with Standerd/scalar\n",
    "data_train_X[all_col] = scaler.transform(data_train_X[all_col])\n",
    "data_test_X[all_col] = scaler.transform(data_test_X[all_col])\n",
    "test_data_cleaned[all_col] = scaler.transform(test_data_cleaned[all_col])"
   ]
  },
  {
   "cell_type": "code",
   "execution_count": 26,
   "metadata": {},
   "outputs": [
    {
     "name": "stdout",
     "output_type": "stream",
     "text": [
      "length of oversampled data is  75138\n",
      "Number of normal transcation in oversampled data 37569\n",
      "No.of fraud transcation 37569\n",
      "Proportion of Normal data in oversampled data is  0.5\n",
      "Proportion of fraud data in oversampled data is  0.5\n"
     ]
    }
   ],
   "source": [
    "# now use SMOTE to oversample our train data which have features data_train_X and labels in data_train_y\n",
    "\n",
    "os_data_X,os_data_y=os.fit_sample(data_train_X,data_train_y)\n",
    "os_data_X = pd.DataFrame(data=os_data_X,columns=columns )\n",
    "os_data_y= pd.DataFrame(data=os_data_y,columns=[\"is_promoted\"])\n",
    "\n",
    "# we can Check the numbers of our data\n",
    "print(\"length of oversampled data is \",len(os_data_X))\n",
    "print(\"Number of normal transcation in oversampled data\",len(os_data_y[os_data_y[\"is_promoted\"]==0]))\n",
    "print(\"No.of fraud transcation\",len(os_data_y[os_data_y[\"is_promoted\"]==1]))\n",
    "print(\"Proportion of Normal data in oversampled data is \",len(os_data_y[os_data_y[\"is_promoted\"]==0])/len(os_data_X))\n",
    "print(\"Proportion of fraud data in oversampled data is \",len(os_data_y[os_data_y[\"is_promoted\"]==1])/len(os_data_X))"
   ]
  },
  {
   "cell_type": "code",
   "execution_count": 27,
   "metadata": {},
   "outputs": [],
   "source": [
    "#Hyperparameter tuning for XGB model\n",
    "\n",
    "def hyperParameterTuning(X_train, y_train):\n",
    "    \n",
    "    param_tuning = {\n",
    "#         'learning_rate': [0.01, 0.1,0.3],\n",
    "        'learning_rate': [0.01, 0.05,0.1],\n",
    "#         'max_depth': [3, 5, 7, 10],\n",
    "        'max_depth': [ 7, 10,12],\n",
    "#         'min_child_weight': [1, 3, 5],\n",
    "#         'subsample': [0.5, 0.7],\n",
    "#         'colsample_bytree': [0.5, 0.7],\n",
    "#         'n_estimators' : [100, 200, 500],\n",
    "        'n_estimators' : [400,500,700],\n",
    "#         'reg_lambda' : [.1,.01,.05]\n",
    "#         'objective': ['reg:squarederror']\n",
    "    }\n",
    "    \n",
    "\n",
    "    xgb_model = xgb.XGBClassifier()\n",
    "\n",
    "    gsearch = GridSearchCV(estimator = xgb_model,\n",
    "                           param_grid = param_tuning,                        \n",
    "#                            scoring = 'neg_mean_absolute_error', #MAE\n",
    "                           #scoring = 'neg_mean_squared_error',  #MSE\n",
    "                           cv = 5,\n",
    "                           n_jobs = -1,\n",
    "                           verbose = 1)\n",
    "    \n",
    "\n",
    "    gsearch.fit(X_train,y_train)\n",
    "\n",
    "    return gsearch.best_params_"
   ]
  },
  {
   "cell_type": "code",
   "execution_count": 28,
   "metadata": {},
   "outputs": [],
   "source": [
    "# hyperParameterTuning(os_data_X,os_data_y)"
   ]
  },
  {
   "cell_type": "code",
   "execution_count": 29,
   "metadata": {},
   "outputs": [
    {
     "data": {
      "text/plain": [
       "XGBClassifier(base_score=0.5, booster='gbtree', colsample_bylevel=1,\n",
       "              colsample_bynode=1, colsample_bytree=0.7, gamma=0, gpu_id=-1,\n",
       "              importance_type='gain', interaction_constraints='',\n",
       "              learning_rate=0.05, max_delta_step=0, max_depth=10,\n",
       "              min_child_weight=5, missing=nan, monotone_constraints='()',\n",
       "              n_estimators=500, n_jobs=-1, num_parallel_tree=1,\n",
       "              objective='reg:squarederror', random_state=0, reg_alpha=0,\n",
       "              reg_lambda=0.05, scale_pos_weight=1, subsample=0.5,\n",
       "              tree_method='exact', validate_parameters=1, verbosity=None)"
      ]
     },
     "execution_count": 29,
     "metadata": {},
     "output_type": "execute_result"
    }
   ],
   "source": [
    "#Initiating XGB model\n",
    "\n",
    "# {'colsample_bytree': 0.7,\n",
    "#  'learning_rate': 0.05,\n",
    "#  'max_depth': 10,\n",
    "#  'min_child_weight': 5,\n",
    "#  'n_estimators': 500,\n",
    "#  'reg_lambda': 0.05,\n",
    "#  'subsample': 0.5}\n",
    "\n",
    "# {'learning_rate': 0.01, 'max_depth': 12, 'n_estimators': 700}\n",
    "\n",
    "GBModel = xgb.XGBClassifier(\n",
    "        objective = 'reg:squarederror',\n",
    "        colsample_bytree = 0.7,\n",
    "        learning_rate = 0.05,\n",
    "        max_depth = 10,\n",
    "        min_child_weight = 5,\n",
    "        n_estimators = 500,\n",
    "        subsample = 0.5,\n",
    "        n_jobs = -1,\n",
    "        reg_lambda = 0.05,\n",
    "        random_state=0\n",
    "        )\n",
    "GBModel.fit(os_data_X,os_data_y, early_stopping_rounds=5, eval_set=[(data_test_X, data_test_y)], verbose=False)"
   ]
  },
  {
   "cell_type": "code",
   "execution_count": 30,
   "metadata": {},
   "outputs": [
    {
     "name": "stdout",
     "output_type": "stream",
     "text": [
      "              precision    recall  f1-score   support\n",
      "\n",
      "           0       0.95      1.00      0.97     37569\n",
      "           1       1.00      0.95      0.97     37569\n",
      "\n",
      "    accuracy                           0.97     75138\n",
      "   macro avg       0.97      0.97      0.97     75138\n",
      "weighted avg       0.97      0.97      0.97     75138\n",
      "\n"
     ]
    }
   ],
   "source": [
    "#Train Prediction\n",
    "gb_pred_trn = GBModel.predict(os_data_X)\n",
    "print(classification_report(os_data_y,gb_pred_trn))"
   ]
  },
  {
   "cell_type": "code",
   "execution_count": 31,
   "metadata": {},
   "outputs": [
    {
     "name": "stdout",
     "output_type": "stream",
     "text": [
      "              precision    recall  f1-score   support\n",
      "\n",
      "           0       0.95      1.00      0.97     12571\n",
      "           1       0.88      0.36      0.51      1131\n",
      "\n",
      "    accuracy                           0.94     13702\n",
      "   macro avg       0.91      0.68      0.74     13702\n",
      "weighted avg       0.94      0.94      0.93     13702\n",
      "\n"
     ]
    }
   ],
   "source": [
    "#Test Prediction\n",
    "\n",
    "gb_pred = GBModel.predict(data_test_X)\n",
    "print(classification_report(data_test_y,gb_pred))"
   ]
  },
  {
   "cell_type": "code",
   "execution_count": 32,
   "metadata": {},
   "outputs": [
    {
     "name": "stdout",
     "output_type": "stream",
     "text": [
      "[[12516    55]\n",
      " [  722   409]]\n"
     ]
    }
   ],
   "source": [
    "#Confusion Metrics for Test\n",
    "gb_rf = confusion_matrix(data_test_y,gb_pred)\n",
    "print(gb_rf)"
   ]
  },
  {
   "cell_type": "code",
   "execution_count": 42,
   "metadata": {},
   "outputs": [
    {
     "data": {
      "image/png": "[encoded data removed]",
      "text/plain": [
       "<Figure size 432x288 with 1 Axes>"
      ]
     },
     "metadata": {
      "needs_background": "light"
     },
     "output_type": "display_data"
    },
    {
     "data": {
      "text/plain": [
       "<Figure size 720x720 with 0 Axes>"
      ]
     },
     "metadata": {},
     "output_type": "display_data"
    }
   ],
   "source": [
    "#Calculating the feature importance\n",
    "\n",
    "pd.Series(GBModel.feature_importances_,index=data_test_X.columns).sort_values(ascending=False)[:15].plot(kind='barh')\n",
    "plt.figure(figsize=(10,10))\n",
    "plt.show()"
   ]
  },
  {
   "cell_type": "code",
   "execution_count": 34,
   "metadata": {},
   "outputs": [
    {
     "name": "stdout",
     "output_type": "stream",
     "text": [
      "              precision    recall  f1-score   support\n",
      "\n",
      "           0       0.96      0.99      0.98     37569\n",
      "           1       0.99      0.96      0.98     37569\n",
      "\n",
      "    accuracy                           0.98     75138\n",
      "   macro avg       0.98      0.98      0.98     75138\n",
      "weighted avg       0.98      0.98      0.98     75138\n",
      "\n"
     ]
    }
   ],
   "source": [
    "#Seting the probability thresold to .4\n",
    "threshold = 0.4\n",
    "\n",
    "#Train Prediction with Thresold .4\n",
    "predicted_proba_trn = GBModel.predict_proba(os_data_X)\n",
    "predicted_trn = (predicted_proba_trn [:,1] >= threshold).astype('int')\n",
    "\n",
    "print(classification_report(os_data_y, predicted_trn))"
   ]
  },
  {
   "cell_type": "code",
   "execution_count": 35,
   "metadata": {},
   "outputs": [
    {
     "name": "stdout",
     "output_type": "stream",
     "text": [
      "              precision    recall  f1-score   support\n",
      "\n",
      "           0       0.95      0.98      0.97     12571\n",
      "           1       0.69      0.42      0.52      1131\n",
      "\n",
      "    accuracy                           0.94     13702\n",
      "   macro avg       0.82      0.70      0.74     13702\n",
      "weighted avg       0.93      0.94      0.93     13702\n",
      "\n"
     ]
    }
   ],
   "source": [
    "#Test Prediction with Thresold .4\n",
    "\n",
    "predicted_proba_tst = GBModel.predict_proba(data_test_X)\n",
    "predicted_tst = (predicted_proba_tst [:,1] >= threshold).astype('int')\n",
    "\n",
    "print(classification_report(data_test_y, predicted_tst))"
   ]
  },
  {
   "cell_type": "code",
   "execution_count": 36,
   "metadata": {},
   "outputs": [
    {
     "name": "stdout",
     "output_type": "stream",
     "text": [
      "[[12363   208]\n",
      " [  661   470]]\n"
     ]
    }
   ],
   "source": [
    "#Confusion Metrics for Test with thresold .4\n",
    "gb_rf = confusion_matrix(data_test_y,predicted_tst)\n",
    "print(gb_rf)"
   ]
  },
  {
   "cell_type": "code",
   "execution_count": 37,
   "metadata": {},
   "outputs": [],
   "source": [
    "#Final Result"
   ]
  },
  {
   "cell_type": "code",
   "execution_count": 38,
   "metadata": {},
   "outputs": [],
   "source": [
    "final_pred_prob = GBModel.predict_proba(test_data_cleaned)\n",
    "final_pred = (final_pred_prob [:,1] >= threshold).astype('int')"
   ]
  },
  {
   "cell_type": "code",
   "execution_count": 39,
   "metadata": {},
   "outputs": [
    {
     "data": {
      "text/html": [
       "<div>\n",
       "<style scoped>\n",
       "    .dataframe tbody tr th:only-of-type {\n",
       "        vertical-align: middle;\n",
       "    }\n",
       "\n",
       "    .dataframe tbody tr th {\n",
       "        vertical-align: top;\n",
       "    }\n",
       "\n",
       "    .dataframe thead th {\n",
       "        text-align: right;\n",
       "    }\n",
       "</style>\n",
       "<table border=\"1\" class=\"dataframe\">\n",
       "  <thead>\n",
       "    <tr style=\"text-align: right;\">\n",
       "      <th></th>\n",
       "      <th>employee_id</th>\n",
       "      <th>is_promoted</th>\n",
       "    </tr>\n",
       "  </thead>\n",
       "  <tbody>\n",
       "    <tr>\n",
       "      <th>0</th>\n",
       "      <td>8724</td>\n",
       "      <td>0</td>\n",
       "    </tr>\n",
       "    <tr>\n",
       "      <th>1</th>\n",
       "      <td>74430</td>\n",
       "      <td>0</td>\n",
       "    </tr>\n",
       "    <tr>\n",
       "      <th>2</th>\n",
       "      <td>72255</td>\n",
       "      <td>0</td>\n",
       "    </tr>\n",
       "    <tr>\n",
       "      <th>3</th>\n",
       "      <td>38562</td>\n",
       "      <td>0</td>\n",
       "    </tr>\n",
       "    <tr>\n",
       "      <th>4</th>\n",
       "      <td>64486</td>\n",
       "      <td>0</td>\n",
       "    </tr>\n",
       "  </tbody>\n",
       "</table>\n",
       "</div>"
      ],
      "text/plain": [
       "   employee_id  is_promoted\n",
       "0         8724            0\n",
       "1        74430            0\n",
       "2        72255            0\n",
       "3        38562            0\n",
       "4        64486            0"
      ]
     },
     "execution_count": 39,
     "metadata": {},
     "output_type": "execute_result"
    }
   ],
   "source": [
    "result = pd.concat([test_data.employee_id ,pd.DataFrame(final_pred, columns = ['is_promoted'])],axis = 1)\n",
    "result.head()"
   ]
  },
  {
   "cell_type": "code",
   "execution_count": 40,
   "metadata": {},
   "outputs": [],
   "source": [
    "# Exporting result to CSV\n",
    "\n",
    "result.to_csv('sample_submission_M0L0uXE.csv',index=False)"
   ]
  }
 ],
 "metadata": {
  "kernelspec": {
   "display_name": "Python 3",
   "language": "python",
   "name": "python3"
  },
  "language_info": {
   "codemirror_mode": {
    "name": "ipython",
    "version": 3
   },
   "file_extension": ".py",
   "mimetype": "text/x-python",
   "name": "python",
   "nbconvert_exporter": "python",
   "pygments_lexer": "ipython3",
   "version": "3.8.3"
  }
 },
 "nbformat": 4,
 "nbformat_minor": 4
}
